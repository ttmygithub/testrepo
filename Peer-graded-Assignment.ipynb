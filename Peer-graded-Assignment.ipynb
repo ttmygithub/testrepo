{
    "cells": [
        {
            "cell_type": "markdown",
            "metadata": {
                "collapsed": true
            },
            "source": "# My Jupyter Notebook on IBM Watson Studio"
        },
        {
            "cell_type": "markdown",
            "metadata": {},
            "source": "**Lih Jen Tobin**\n\nData Scientist "
        },
        {
            "cell_type": "markdown",
            "metadata": {},
            "source": "*I am interested to find hidden information in the dataset*"
        },
        {
            "cell_type": "markdown",
            "metadata": {},
            "source": "### Print the statement of hello world"
        },
        {
            "cell_type": "code",
            "execution_count": 4,
            "metadata": {},
            "outputs": [
                {
                    "name": "stdout",
                    "output_type": "stream",
                    "text": "hello world\n"
                }
            ],
            "source": "print(\"hello world\")"
        },
        {
            "cell_type": "markdown",
            "metadata": {},
            "source": "[CNN](https://www.cnn.com)\n\n|    Item    | Height          | Width  |\n| ------------- |:-------------:| -----:|\n| Chair     | 10  |20|\n| Table      | 15      |   25 |\n\n```python\ns = \"Python is fun\"\nprint s\n```"
        },
        {
            "cell_type": "code",
            "execution_count": null,
            "metadata": {},
            "outputs": [],
            "source": ""
        }
    ],
    "metadata": {
        "kernelspec": {
            "display_name": "Python 3.8",
            "language": "python",
            "name": "python3"
        },
        "language_info": {
            "codemirror_mode": {
                "name": "ipython",
                "version": 3
            },
            "file_extension": ".py",
            "mimetype": "text/x-python",
            "name": "python",
            "nbconvert_exporter": "python",
            "pygments_lexer": "ipython3",
            "version": "3.8.10"
        }
    },
    "nbformat": 4,
    "nbformat_minor": 1
}